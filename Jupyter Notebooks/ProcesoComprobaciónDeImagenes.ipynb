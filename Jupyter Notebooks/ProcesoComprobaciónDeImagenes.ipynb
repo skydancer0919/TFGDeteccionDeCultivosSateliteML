{
  "nbformat": 4,
  "nbformat_minor": 0,
  "metadata": {
    "colab": {
      "name": "ProcesoComprobaciónDeImagenes.ipynb",
      "version": "0.3.2",
      "provenance": [],
      "collapsed_sections": []
    },
    "kernelspec": {
      "name": "python3",
      "display_name": "Python 3"
    },
    "accelerator": "GPU"
  },
  "cells": [
    {
      "cell_type": "code",
      "metadata": {
        "id": "3cVMIJoZOK8q",
        "colab_type": "code",
        "outputId": "cc4a66a9-2117-4657-9f0e-dd09c5ab7b8f",
        "colab": {
          "base_uri": "https://localhost:8080/",
          "height": 34
        }
      },
      "source": [
        "import sys\n",
        "import os\n",
        "import numpy as np\n",
        "import matplotlib.pyplot as plt\n",
        "import shutil \n",
        "%matplotlib inline\n",
        "\n",
        "from keras.preprocessing.image import load_img, img_to_array\n",
        "from keras.utils import CustomObjectScope\n",
        "from keras.initializers import glorot_uniform\n",
        "from keras.models import load_model\n",
        "from datetime import *\n",
        "\n",
        "\n",
        "\n"
      ],
      "execution_count": 1,
      "outputs": [
        {
          "output_type": "stream",
          "text": [
            "Using TensorFlow backend.\n"
          ],
          "name": "stderr"
        }
      ]
    },
    {
      "cell_type": "code",
      "metadata": {
        "id": "Y5VhOD61Om1Y",
        "colab_type": "code",
        "colab": {}
      },
      "source": [
        "def leerParametrosFichero(ruta):\n",
        "  diccionarioParametros = {}\n",
        "  \n",
        "  # Abre archivo en modo lectura\n",
        "  with open(ruta,'r') as archivo:\n",
        "    # inicia bucle infinito para leer línea a línea.\n",
        "    while True: \n",
        "      linea = archivo.readline()  # lee línea.\n",
        "      if not linea: \n",
        "          break  # Si no hay más se rompe bucle.\n",
        "      linea = linea.rstrip() #Quita caracteres vacios y \\n a la derecha.\n",
        "      \n",
        "      key, value = linea.strip().split('=') #dividimos la linea mediante el signo = . izquierda la clave y derecha valor\n",
        "      key = key.strip() #quitamos espacios en blancos de la parte izquierda\n",
        "      key = key.strip(\"'\") #quitamos comillas simples de la parte izquierda\n",
        "      \n",
        "      value = value.strip() # #quitamos espacios en blancos de la parte derecha\n",
        "      value = value.strip(\"'\") # quitamos comillas simples de la parte derecha\n",
        "      \n",
        "      diccionarioParametros[key] = value\n",
        "  archivo.close  # Cierra archivo\n",
        "  \n",
        "  return diccionarioParametros"
      ],
      "execution_count": 0,
      "outputs": []
    },
    {
      "cell_type": "code",
      "metadata": {
        "id": "3g2TWTaqO8a2",
        "colab_type": "code",
        "colab": {}
      },
      "source": [
        "def predecirImagen(fileImg,fecha,red,fIniSin,fFinSin,fIniSiem,fFinSiem,fIniCre,fFinCre,altura,anchura,diccionarioFases):\n",
        "  \n",
        "  print(\"------- Prediciendo la imágen:\",fileImg,\"... -------\")\n",
        "  formatFecha = \"%d-%m-%Y\"\n",
        "  dateFecha = datetime.strptime(fecha, formatFecha)\n",
        "  fecha = dateFecha.replace(year=2013) #Convertimos la fecha para que todas esten el mismo año para compararse.\n",
        "\n",
        "  \n",
        "  print(\"Fecha comprobada:\",dateFecha)\n",
        "  print(\"Fecha Inicio Sin Siembra:\",fIniSin)\n",
        "  print(\"Fecha Fin Sin Siembra:\",fFinSin)\n",
        "  print(\"Fecha Inicio Siembra:\",fIniSiem)\n",
        "  print(\"Fecha Fin Siembra:\",fIniSin)\n",
        "  print(\"Fecha Inicio Crecimiento:\",fIniCre)\n",
        "  print(\"Fecha Fin Crecimiento:\",fFinCre)\n",
        " \n",
        "\n",
        "  #Cargamos la imagen para mostrarla.\n",
        "  imagenCargada = load_img(fileImg, target_size=(altura, anchura))\n",
        "  fig = plt.figure(figsize=(5, 5))\n",
        "  fig.set_facecolor('white')\n",
        "  plt.imshow(imagenCargada,'BrBG') # Typically the color map for NDVI maps are the Red to Yellow to Green\n",
        "  \n",
        "  plt.title('Imagen: ' +fileImg )\n",
        "  plt.show()\n",
        "  \n",
        "\n",
        "  #Ahora utilizamos la imagen cargada para hacer su prediccion.\n",
        "  imagenCargada = img_to_array(imagenCargada)\n",
        "  imagenCargada = np.expand_dims(imagenCargada, axis=0)\n",
        " \n",
        "  arrayPrediccion = red.predict(imagenCargada) #metodo que predice la imagen con la red cargada.\n",
        "  resultado = arrayPrediccion[0]\n",
        "  respuestaFasePrediccion = np.argmax(resultado)\n",
        "  \n",
        "  \n",
        "  #Transformamos el resultado de la respuesta de la prediccion a una cadena para poder comparar.\n",
        "  if respuestaFasePrediccion == 0:\n",
        "    print(\"Predicción de la red : Crecimiento\")\n",
        "    respuestaML = 'Crecimiento' \n",
        "  elif respuestaFasePrediccion == 1:\n",
        "    print(\"Predicción de la red : Siembra\")\n",
        "    respuestaML = 'Siembra'\n",
        "  elif respuestaFasePrediccion == 2:\n",
        "    print(\"Predicción de la red : sinSiembra\")\n",
        "    respuestaML = 'sinSiembra'\n",
        "    \n",
        "  \n",
        "  #Comprobamos ahora a que fase cultivo deberia pertencer por las fechas en la que se encuentra.\n",
        "  if fecha >= fIniSin and fecha <= fFinSin:\n",
        "    respuestaFaseFecha = 'sinSiembra'\n",
        "  elif fecha >= fIniSiem and fecha < fFinSiem:\n",
        "    respuestaFaseFecha = 'Siembra'\n",
        "  elif fecha >= fIniCre and fecha < fFinCre:\n",
        "    respuestaFaseFecha = 'Crecimiento' \n",
        "  else:\n",
        "    respuestaFaseFecha = 'No corresponde a la temporada de este cultivo'\n",
        "  print('Resultado por fecha:',respuestaFaseFecha)\n",
        "  \n",
        "\n",
        "    \n",
        "  if respuestaML == respuestaFaseFecha:\n",
        "      resultadoPrediccionImagen = True\n",
        "      if diccionarioFases[respuestaML] == False:\n",
        "        diccionarioFases[respuestaML] = True\n",
        "  else:\n",
        "      resultadoPrediccionImagen = False\n",
        "  \n",
        "  \n",
        "  return resultadoPrediccionImagen, diccionarioFases"
      ],
      "execution_count": 0,
      "outputs": []
    },
    {
      "cell_type": "code",
      "metadata": {
        "id": "gbnDs1PrmeT-",
        "colab_type": "code",
        "colab": {}
      },
      "source": [
        "def obtenerResultadosImagenes(diccionarioIMG,red,dateFISS,dateFFSS,dateFIS,dateFFS,dateFIC,dateFFC,altura,anchura):\n",
        "  listaResultados = []\n",
        "  diccionarioFases = {'Crecimiento': False, 'Siembra':False, 'sinSiembra': False }\n",
        "  for imagen in diccionarioIMG.keys():\n",
        "    tuplaImg = eval(diccionarioIMG[imagen])\n",
        "    rutaImg = tuplaImg[0]\n",
        "    fechaImg = tuplaImg[1]\n",
        "    resultadoPrediccion, diccionarioFases = predecirImagen(rutaImg,fechaImg,red,dateFISS,dateFFSS,dateFIS,dateFFS,dateFIC,dateFFC,altura,anchura,diccionarioFases)\n",
        "    listaResultados.append(resultadoPrediccion) \n",
        "  return listaResultados,diccionarioFases"
      ],
      "execution_count": 0,
      "outputs": []
    },
    {
      "cell_type": "code",
      "metadata": {
        "id": "wlk_xjL8rhUZ",
        "colab_type": "code",
        "colab": {}
      },
      "source": [
        "def comprobarResultados(listaResul,nomCultivo,dicFases):\n",
        "  numeroCorrectas = 0\n",
        "  nummeroFases = 0\n",
        "  numeroResultados = len(listaResul)\n",
        "  porcentajeAceptacion = 90.0\n",
        "  \n",
        "  \n",
        "  for fase in dicFases.keys():\n",
        "    if dicFases[fase] == True:\n",
        "      nummeroFases = nummeroFases + 1\n",
        "   \n",
        "  \n",
        "  if numeroResultados >= 3 and nummeroFases == 3:\n",
        "    for resultado in listaResul:\n",
        "      if resultado == True:\n",
        "        numeroCorrectas = numeroCorrectas +1\n",
        "      else:\n",
        "        break\n",
        "    porcentajeObtenido = numeroCorrectas/numeroResultados * 100\n",
        "    \n",
        "    \n",
        "    if porcentajeObtenido >= porcentajeAceptacion:\n",
        "      print(\"El porcentaje de que la parcela sea \" +nomCultivo +\"es: \",porcentajeObtenido)\n",
        "      print(\"La parcela introducida es \",nomCultivo)\n",
        "    else:\n",
        "      print(\"Lo siento,la parcela introducida no es\",nomCultivo)\n",
        "      print(\"El porcentaje de que sea\",nomCultivo,\" es:\",porcentajeObtenido)\n",
        "  else:\n",
        "      if(numeroResultados >= 3):\n",
        "        print(\"No se puede comprobar,porque el número de fases de cultivo distintas deber ser 3 y solo existen:\",nummeroFases) \n",
        "      else:\n",
        "        print(\"No se puede comprobar,porque el número de resultado debe ser mayor o igual a 3 y solo hay:\",numeroResultados) \n",
        "  "
      ],
      "execution_count": 0,
      "outputs": []
    },
    {
      "cell_type": "code",
      "metadata": {
        "id": "j_3TBMnjOnd_",
        "colab_type": "code",
        "colab": {}
      },
      "source": [
        "def procesoComprobacionImagenes(parametros):\n",
        "  \n",
        "  print(\"------- Leyendo los parametros... -------\")  \n",
        "  print(parametros)\n",
        "  \n",
        "  enFormatoZIP = eval(parametros['enFormatoZIP'])\n",
        "  \n",
        "  #Nombre de la ruta en la que se encuentran los pesos y el modelo.\n",
        "  rutaModeloYPesos = parametros['rutaModeloYPesos']\n",
        "  nombreModelo = parametros['nombreModelo']\n",
        "  nombrePesos = parametros['nombrePesos']\n",
        "  \n",
        "  \n",
        "  #Obtenemos el perdiodo de siembra del cultivo.\n",
        "  formatoFecha = \"%d-%m-%Y\"\n",
        "    \n",
        "  fechaInicioSinSiembra = parametros['fechaInicioSinSiembra']\n",
        "  dateFechaInicioSinSiembra = datetime.strptime(fechaInicioSinSiembra, formatoFecha)\n",
        "  #Convertimos al año 2013 por ejemplo, para que podamos comparar ya que solo nos interesan los dias y meses para las cosechas.\n",
        "  dateFechaInicioSinSiembra = dateFechaInicioSinSiembra.replace(year=2013) \n",
        "\n",
        "  \n",
        "  fechaFinSinSiembra = parametros['fechaFinSinSiembra']\n",
        "  dateFechaFinSinSiembra = datetime.strptime(fechaFinSinSiembra, formatoFecha)\n",
        "  dateFechaFinSinSiembra = dateFechaFinSinSiembra.replace(year=2013) \n",
        "\n",
        "  \n",
        "  fechaInicioSiembra = parametros['fechaInicioSiembra']\n",
        "  dateFechaInicioSiembra = datetime.strptime(fechaInicioSiembra, formatoFecha)\n",
        "  dateFechaInicioSiembra = dateFechaInicioSiembra.replace(year=2013) \n",
        "\n",
        "  fechaFinSiembra = parametros['fechaFinSiembra']\n",
        "  dateFechaFinSiembra = datetime.strptime(fechaFinSiembra, formatoFecha)\n",
        "  dateFechaFinSiembra = dateFechaFinSiembra.replace(year=2013) \n",
        "\n",
        "  \n",
        "  fechaInicioCrecimiento = parametros['fechaInicioCrecimiento']\n",
        "  dateFechaInicioCrecimiento = datetime.strptime(fechaInicioCrecimiento, formatoFecha)\n",
        "  dateFechaInicioCrecimiento = dateFechaInicioCrecimiento.replace(year=2013) \n",
        "\n",
        "  fechaFinCrecimiento = parametros['fechaFinCrecimiento']\n",
        "  dateFechaFinCrecimiento = datetime.strptime(fechaFinCrecimiento, formatoFecha)\n",
        "  dateFechaFinCrecimiento = dateFechaFinCrecimiento.replace(year=2013) \n",
        "\n",
        "  \n",
        "  #Direccion donde se encuentra el fichero con las imagenes para comprobar.\n",
        "  rutaFicheroImagenesComprobar = parametros['rutaFicheroImagenesComprobar']\n",
        "  \n",
        "  #Dimensiones de las imagenes que vamos a cargar.\n",
        "  alturaImagen = int(parametros['alturaImagen'])\n",
        "  anchuraImagen = int(parametros['anchuraImagen'])\n",
        "  \n",
        "  #Nombre de cultivo que queremos comprobar. (sirve para que muestre si es este de tipo o no)\n",
        "  nombreCultivo = parametros['nombreCultivo']\n",
        "  \n",
        "  try: # comprueba si exista ya el directorio, sino lo creará mediante descompresion \n",
        "    os.stat(rutaModeloYPesos) \n",
        "    print(\"Ya existe el directorio\")\n",
        "    print(\"------- Cargando la red y los pesos... -------\")  \n",
        "    modelo = rutaModeloYPesos +'/' + nombreModelo\n",
        "    print(modelo)\n",
        "    pesos_modelo = rutaModeloYPesos +'/' + nombrePesos\n",
        "    print(pesos_modelo)\n",
        "    \n",
        "  except:\n",
        "    if (enFormatoZIP): #Si la ruta indicada en el fichero es en formato .zip\n",
        "      rutaZip = parametros['rutaZip']\n",
        "      if \".zip\" not in rutaModeloYPesos:  \n",
        "        rutaZip = rutaModeloYPesos+'.zip'\n",
        "        print('------- Descomprimiendo el archivo',rutaZip,'... -------')  \n",
        "        shutil.unpack_archive(rutaZip,extract_dir= rutaModeloYPesos)\n",
        "      else:\n",
        "        print('------- Descomprimiendo el archivo',rutaZip,'... -------') \n",
        "        shutil.unpack_archive(rutaZip,extract_dir= rutaModeloYPesos)\n",
        "    \n",
        "      print(\"------- Cargando la red y los pesos... -------\")  \n",
        "      modelo = rutaModeloYPesos +'/' + nombreModelo\n",
        "      print(modelo)\n",
        "      pesos_modelo = rutaModeloYPesos +'/' + nombrePesos\n",
        "      print(pesos_modelo)\n",
        "    \n",
        "\n",
        "  diccionarioIMG = leerParametrosFichero(rutaFicheroImagenesComprobar)\n",
        "  \n",
        "  with CustomObjectScope({'GlorotUniform': glorot_uniform()}):\n",
        "    redConvolucionaCargada = load_model(modelo)\n",
        "  redConvolucionaCargada.load_weights(pesos_modelo)\n",
        "  \n",
        "  print(\"------- Obteniendo los resultados de las imágenes... -------\")  \n",
        "  listaResultados,diccionarioFases = obtenerResultadosImagenes(diccionarioIMG,redConvolucionaCargada,dateFechaInicioSinSiembra,dateFechaFinSinSiembra,dateFechaInicioSiembra,dateFechaFinSiembra,dateFechaInicioCrecimiento,dateFechaFinCrecimiento,alturaImagen,anchuraImagen)\n",
        "                                            \n",
        "  print(\"------- Comprobando los resultados de las imágenes... -------\")  \n",
        "  comprobarResultados(listaResultados,nombreCultivo,diccionarioFases)\n",
        "  print(\"------- Fin  del programa -------\")  \n",
        "  "
      ],
      "execution_count": 0,
      "outputs": []
    },
    {
      "cell_type": "code",
      "metadata": {
        "id": "wNmVLAhOOcwj",
        "colab_type": "code",
        "outputId": "7f3cf171-3fbb-4fbf-f2aa-9b6ae70b723c",
        "colab": {
          "base_uri": "https://localhost:8080/",
          "height": 1000
        }
      },
      "source": [
        "param = leerParametrosFichero('/content/FicheroComprobacionImagenes.txt')\n",
        "procesoComprobacionImagenes(param)"
      ],
      "execution_count": 8,
      "outputs": [
        {
          "output_type": "stream",
          "text": [
            "WARNING: Logging before flag parsing goes to stderr.\n",
            "W0630 18:54:53.907566 140464010770304 deprecation_wrapper.py:119] From /usr/local/lib/python3.6/dist-packages/keras/backend/tensorflow_backend.py:517: The name tf.placeholder is deprecated. Please use tf.compat.v1.placeholder instead.\n",
            "\n",
            "W0630 18:54:53.920945 140464010770304 deprecation_wrapper.py:119] From /usr/local/lib/python3.6/dist-packages/keras/backend/tensorflow_backend.py:4185: The name tf.truncated_normal is deprecated. Please use tf.random.truncated_normal instead.\n",
            "\n",
            "W0630 18:54:53.934998 140464010770304 deprecation_wrapper.py:119] From /usr/local/lib/python3.6/dist-packages/keras/backend/tensorflow_backend.py:3976: The name tf.nn.max_pool is deprecated. Please use tf.nn.max_pool2d instead.\n",
            "\n",
            "W0630 18:54:53.966114 140464010770304 deprecation_wrapper.py:119] From /usr/local/lib/python3.6/dist-packages/keras/backend/tensorflow_backend.py:131: The name tf.get_default_graph is deprecated. Please use tf.compat.v1.get_default_graph instead.\n",
            "\n",
            "W0630 18:54:53.967126 140464010770304 deprecation_wrapper.py:119] From /usr/local/lib/python3.6/dist-packages/keras/backend/tensorflow_backend.py:133: The name tf.placeholder_with_default is deprecated. Please use tf.compat.v1.placeholder_with_default instead.\n",
            "\n",
            "W0630 18:54:53.975977 140464010770304 deprecation.py:506] From /usr/local/lib/python3.6/dist-packages/keras/backend/tensorflow_backend.py:3445: calling dropout (from tensorflow.python.ops.nn_ops) with keep_prob is deprecated and will be removed in a future version.\n",
            "Instructions for updating:\n",
            "Please use `rate` instead of `keep_prob`. Rate should be set to `rate = 1 - keep_prob`.\n"
          ],
          "name": "stderr"
        },
        {
          "output_type": "stream",
          "text": [
            "------- Leyendo los parametros... -------\n",
            "{'enFormatoZIP': 'True', 'rutaZip': '/content/ModeloyPesosTabaco.zip', 'rutaModeloYPesos': '/content/ModeloyPesosTabaco', 'nombreModelo': 'modeloTabaco.h5', 'nombrePesos': 'pesosTabaco.h5', 'fechaInicioSinSiembra': '01-03-2013', 'fechaFinSinSiembra': '11-05-2013', 'fechaInicioSiembra': '12-05-2013', 'fechaFinSiembra': '16-06-2013', 'fechaInicioCrecimiento': '17-06-2013', 'fechaFinCrecimiento': '02-10-2013', 'rutaFicheroImagenesComprobar': '/content/FicheroImagenesParcelasComprobar.txt', 'alturaImagen': '28', 'anchuraImagen': '28', 'nombreCultivo': 'Tabaco'}\n",
            "------- Descomprimiendo el archivo /content/ModeloyPesosTabaco.zip ... -------\n",
            "------- Cargando la red y los pesos... -------\n",
            "/content/ModeloyPesosTabaco/modeloTabaco.h5\n",
            "/content/ModeloyPesosTabaco/pesosTabaco.h5\n"
          ],
          "name": "stdout"
        },
        {
          "output_type": "stream",
          "text": [
            "W0630 18:54:54.018457 140464010770304 deprecation_wrapper.py:119] From /usr/local/lib/python3.6/dist-packages/keras/backend/tensorflow_backend.py:174: The name tf.get_default_session is deprecated. Please use tf.compat.v1.get_default_session instead.\n",
            "\n",
            "W0630 18:54:54.793162 140464010770304 deprecation_wrapper.py:119] From /usr/local/lib/python3.6/dist-packages/keras/optimizers.py:790: The name tf.train.Optimizer is deprecated. Please use tf.compat.v1.train.Optimizer instead.\n",
            "\n",
            "W0630 18:54:54.896552 140464010770304 deprecation.py:323] From /usr/local/lib/python3.6/dist-packages/tensorflow/python/ops/math_grad.py:1250: add_dispatch_support.<locals>.wrapper (from tensorflow.python.ops.array_ops) is deprecated and will be removed in a future version.\n",
            "Instructions for updating:\n",
            "Use tf.where in 2.0, which has the same broadcast rule as np.where\n"
          ],
          "name": "stderr"
        },
        {
          "output_type": "stream",
          "text": [
            "------- Obteniendo los resultados de las imágenes... -------\n",
            "------- Prediciendo la imágen: /content/2017-06-01NDVIcolorParcelaTabaco7.png ... -------\n",
            "Fecha comprobada: 2017-06-01 00:00:00\n",
            "Fecha Inicio Sin Siembra: 2013-03-01 00:00:00\n",
            "Fecha Fin Sin Siembra: 2013-05-11 00:00:00\n",
            "Fecha Inicio Siembra: 2013-05-12 00:00:00\n",
            "Fecha Fin Siembra: 2013-03-01 00:00:00\n",
            "Fecha Inicio Crecimiento: 2013-06-17 00:00:00\n",
            "Fecha Fin Crecimiento: 2013-10-02 00:00:00\n"
          ],
          "name": "stdout"
        },
        {
          "output_type": "display_data",
          "data": {
            "image/png": "[encoded data removed]",
            "text/plain": [
              "<Figure size 360x360 with 1 Axes>"
            ]
          },
          "metadata": {
            "tags": []
          }
        },
        {
          "output_type": "stream",
          "text": [
            "Predicción de la red : Siembra\n",
            "Resultado por fecha: Siembra\n",
            "------- Prediciendo la imágen: /content/2017-05-16NDVIcolorParcelaTabaco7.png ... -------\n",
            "Fecha comprobada: 2017-05-16 00:00:00\n",
            "Fecha Inicio Sin Siembra: 2013-03-01 00:00:00\n",
            "Fecha Fin Sin Siembra: 2013-05-11 00:00:00\n",
            "Fecha Inicio Siembra: 2013-05-12 00:00:00\n",
            "Fecha Fin Siembra: 2013-03-01 00:00:00\n",
            "Fecha Inicio Crecimiento: 2013-06-17 00:00:00\n",
            "Fecha Fin Crecimiento: 2013-10-02 00:00:00\n"
          ],
          "name": "stdout"
        },
        {
          "output_type": "display_data",
          "data": {
            "image/png": "[encoded data removed]",
            "text/plain": [
              "<Figure size 360x360 with 1 Axes>"
            ]
          },
          "metadata": {
            "tags": []
          }
        },
        {
          "output_type": "stream",
          "text": [
            "Predicción de la red : Siembra\n",
            "Resultado por fecha: Siembra\n",
            "------- Prediciendo la imágen: /content/2017-08-20NDVIcolorParcelaTabaco7.png ... -------\n",
            "Fecha comprobada: 2017-08-20 00:00:00\n",
            "Fecha Inicio Sin Siembra: 2013-03-01 00:00:00\n",
            "Fecha Fin Sin Siembra: 2013-05-11 00:00:00\n",
            "Fecha Inicio Siembra: 2013-05-12 00:00:00\n",
            "Fecha Fin Siembra: 2013-03-01 00:00:00\n",
            "Fecha Inicio Crecimiento: 2013-06-17 00:00:00\n",
            "Fecha Fin Crecimiento: 2013-10-02 00:00:00\n"
          ],
          "name": "stdout"
        },
        {
          "output_type": "display_data",
          "data": {
            "image/png": "[encoded data removed]",
            "text/plain": [
              "<Figure size 360x360 with 1 Axes>"
            ]
          },
          "metadata": {
            "tags": []
          }
        },
        {
          "output_type": "stream",
          "text": [
            "Predicción de la red : Crecimiento\n",
            "Resultado por fecha: Crecimiento\n",
            "------- Prediciendo la imágen: /content/2017-08-04NDVIcolorParcelaTabaco7.png ... -------\n",
            "Fecha comprobada: 2017-08-04 00:00:00\n",
            "Fecha Inicio Sin Siembra: 2013-03-01 00:00:00\n",
            "Fecha Fin Sin Siembra: 2013-05-11 00:00:00\n",
            "Fecha Inicio Siembra: 2013-05-12 00:00:00\n",
            "Fecha Fin Siembra: 2013-03-01 00:00:00\n",
            "Fecha Inicio Crecimiento: 2013-06-17 00:00:00\n",
            "Fecha Fin Crecimiento: 2013-10-02 00:00:00\n"
          ],
          "name": "stdout"
        },
        {
          "output_type": "display_data",
          "data": {
            "image/png": "[encoded data removed]",
            "text/plain": [
              "<Figure size 360x360 with 1 Axes>"
            ]
          },
          "metadata": {
            "tags": []
          }
        },
        {
          "output_type": "stream",
          "text": [
            "Predicción de la red : Crecimiento\n",
            "Resultado por fecha: Crecimiento\n",
            "------- Prediciendo la imágen: /content/2017-04-14NDVIcolorParcelaTabaco7.png ... -------\n",
            "Fecha comprobada: 2017-04-14 00:00:00\n",
            "Fecha Inicio Sin Siembra: 2013-03-01 00:00:00\n",
            "Fecha Fin Sin Siembra: 2013-05-11 00:00:00\n",
            "Fecha Inicio Siembra: 2013-05-12 00:00:00\n",
            "Fecha Fin Siembra: 2013-03-01 00:00:00\n",
            "Fecha Inicio Crecimiento: 2013-06-17 00:00:00\n",
            "Fecha Fin Crecimiento: 2013-10-02 00:00:00\n"
          ],
          "name": "stdout"
        },
        {
          "output_type": "display_data",
          "data": {
            "image/png": "[encoded data removed]",
            "text/plain": [
              "<Figure size 360x360 with 1 Axes>"
            ]
          },
          "metadata": {
            "tags": []
          }
        },
        {
          "output_type": "stream",
          "text": [
            "Predicción de la red : sinSiembra\n",
            "Resultado por fecha: sinSiembra\n",
            "------- Comprobando los resultados de las imágenes... -------\n",
            "El porcentaje de que la parcela sea Tabacoes:  100.0\n",
            "La parcela introducida es  Tabaco\n",
            "------- Fin  del programa -------\n"
          ],
          "name": "stdout"
        }
      ]
    }
  ]
}