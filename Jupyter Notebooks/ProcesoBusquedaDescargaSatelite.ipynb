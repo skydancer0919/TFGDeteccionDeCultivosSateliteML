{
  "nbformat": 4,
  "nbformat_minor": 0,
  "metadata": {
    "colab": {
      "name": "ProcesoBusquedaDescargaSatelite.ipynb",
      "version": "0.3.2",
      "provenance": [],
      "collapsed_sections": []
    },
    "kernelspec": {
      "name": "python3",
      "display_name": "Python 3"
    },
    "accelerator": "GPU"
  },
  "cells": [
    {
      "cell_type": "code",
      "metadata": {
        "id": "i4kiw0S76DWP",
        "colab_type": "code",
        "outputId": "4146b9bf-325c-475f-f6f6-a25fe4486a07",
        "colab": {
          "base_uri": "https://localhost:8080/",
          "height": 359
        }
      },
      "source": [
        "!pip install sat-search\n",
        "from satsearch import Search\n",
        "from satstac import Items\n",
        "import pickle\n",
        "import sys\n",
        "\n",
        "\n"
      ],
      "execution_count": 2,
      "outputs": [
        {
          "output_type": "stream",
          "text": [
            "Requirement already satisfied: sat-search in /usr/local/lib/python3.6/dist-packages (0.2.1)\n",
            "Requirement already satisfied: sat-stac~=0.1.2 in /usr/local/lib/python3.6/dist-packages (from sat-search) (0.1.3)\n",
            "Requirement already satisfied: requests>=2.19.1 in /usr/local/lib/python3.6/dist-packages (from sat-stac~=0.1.2->sat-search) (2.21.0)\n",
            "Requirement already satisfied: python-dateutil~=2.7.5 in /usr/local/lib/python3.6/dist-packages (from sat-stac~=0.1.2->sat-search) (2.7.5)\n",
            "Requirement already satisfied: chardet<3.1.0,>=3.0.2 in /usr/local/lib/python3.6/dist-packages (from requests>=2.19.1->sat-stac~=0.1.2->sat-search) (3.0.4)\n",
            "Requirement already satisfied: urllib3<1.25,>=1.21.1 in /usr/local/lib/python3.6/dist-packages (from requests>=2.19.1->sat-stac~=0.1.2->sat-search) (1.24.3)\n",
            "Requirement already satisfied: certifi>=2017.4.17 in /usr/local/lib/python3.6/dist-packages (from requests>=2.19.1->sat-stac~=0.1.2->sat-search) (2019.3.9)\n",
            "Requirement already satisfied: idna<2.9,>=2.5 in /usr/local/lib/python3.6/dist-packages (from requests>=2.19.1->sat-stac~=0.1.2->sat-search) (2.8)\n",
            "Requirement already satisfied: six>=1.5 in /usr/local/lib/python3.6/dist-packages (from python-dateutil~=2.7.5->sat-stac~=0.1.2->sat-search) (1.12.0)\n"
          ],
          "name": "stdout"
        }
      ]
    },
    {
      "cell_type": "code",
      "metadata": {
        "id": "4-9qx7Zf6Op_",
        "colab_type": "code",
        "colab": {}
      },
      "source": [
        "def buscarResultadosSatelite(minLon,minLat,maxLon,maxLat,minDate,maxDate,maxCloudCover,satellite):\n",
        "  search = Search.search(bbox=[minLon,minLat,maxLon,maxLat],\n",
        "               datetime=minDate+'/'+maxDate,\n",
        "               property=[\"eo:cloud_cover<\"+str(maxCloudCover)],\n",
        "               collection=satellite)\n",
        "  items = search.items()\n",
        "  return items"
      ],
      "execution_count": 0,
      "outputs": []
    },
    {
      "cell_type": "code",
      "metadata": {
        "id": "TaUkEnp66XY0",
        "colab_type": "code",
        "colab": {}
      },
      "source": [
        "def descargarResultadosSatelite(items,directorio):\n",
        "  filenameB5 = items.download('B5', path=directorio+'/${date}')\n",
        "  print(filenameB5)\n",
        "  filenameB4 = items.download('B4', path=directorio+'/${date}')\n",
        "  print(filenameB4)"
      ],
      "execution_count": 0,
      "outputs": []
    },
    {
      "cell_type": "code",
      "metadata": {
        "id": "3KrpXqjs9CJr",
        "colab_type": "code",
        "colab": {}
      },
      "source": [
        "def leerParametrosBusquedaDescargas(ruta):\n",
        "  diccionarioParametros = {}\n",
        "  \n",
        "  # Abre archivo en modo lectura\n",
        "  with open(ruta,'r') as archivo:\n",
        "    # inicia bucle infinito para leer línea a línea.\n",
        "    while True: \n",
        "      linea = archivo.readline()  # lee línea.\n",
        "      if not linea: \n",
        "          break  # Si no hay más se rompe bucle.\n",
        "      linea = linea.rstrip() #Quita caracteres vacios y \\n a la derecha.\n",
        "      \n",
        "      key, value = linea.strip().split('=') #dividimos la linea mediante el signo = . izquierda la clave y derecha valor\n",
        "      key = key.strip() #quitamos espacios en blancos de la parte izquierda\n",
        "      key = key.strip(\"'\") #quitamos comillas simples de la parte izquierda\n",
        "      \n",
        "      value = value.strip() # #quitamos espacios en blancos de la parte derecha\n",
        "      value = value.strip(\"'\") # quitamos comillas simples de la parte derecha\n",
        "      \n",
        "      diccionarioParametros[key] = value\n",
        "  archivo.close  # Cierra archivo\n",
        "  \n",
        "  return diccionarioParametros"
      ],
      "execution_count": 0,
      "outputs": []
    },
    {
      "cell_type": "code",
      "metadata": {
        "id": "YFw4HZIOFGHg",
        "colab_type": "code",
        "colab": {}
      },
      "source": [
        "def procesoBusquedayDescarga(parameters):  \n",
        "  \n",
        "  minLon = float(parameters['minLon']) \n",
        "  minLat = float(parameters['minLat'])\n",
        "  maxLon = float(parameters['maxLon'])\n",
        "  maxLat = float(parameters['maxLat'])\n",
        "  minDate = parameters['minDate']\n",
        "  maxDate = parameters['maxDate']\n",
        "  clouds = int(parameters['clouds'])\n",
        "  satellite = parameters['satellite']\n",
        "  rutaDescarga = parameters['rutaDescarga'] \n",
        "  \n",
        "  print(\"------- Buscando resultados... --------\")  \n",
        "  myItems = buscarResultadosSatelite(minLon,minLat,maxLon,maxLat,minDate,maxDate,clouds,satellite)\n",
        "  print(myItems.summary(['date', 'id', 'eo:cloud_cover']))\n",
        "  \n",
        "  \n",
        "  print(\"------- Descargando los resultados... --------\") \n",
        "  descargarResultadosSatelite(myItems, rutaDescarga)\n",
        "  listaFechas = myItems.dates()\n",
        "  \n",
        " \n",
        "  print(\"------- Guardando el fichero con las fechas de los resultados... --------\") \n",
        "  with open('FechasDescargadasSatelite.txt', 'wb') as archivo:# Abre archivo binario para escribir   \n",
        "     pickle.dump(listaFechas, archivo) # Escribe la lista en el fichero creado en forma de datos. \n",
        "  archivo.close\n",
        "  \n",
        "  print(\"------- Fin del proceso de busqueda y descarga de resultados. --------\")\n",
        "  \n"
      ],
      "execution_count": 0,
      "outputs": []
    },
    {
      "cell_type": "code",
      "metadata": {
        "id": "-pKwoWZVGlKa",
        "colab_type": "code",
        "outputId": "d2241d87-a794-4d4a-ffd6-6e8b4a1fcf2b",
        "colab": {
          "base_uri": "https://localhost:8080/",
          "height": 1193
        }
      },
      "source": [
        "parametros = leerParametrosBusquedaDescargas('/content/parametrosBusquedaDescarga.txt')\n",
        "procesoBusquedayDescarga(parametros)"
      ],
      "execution_count": 7,
      "outputs": [
        {
          "output_type": "stream",
          "text": [
            "------- Buscando resultados... --------\n",
            "Items (59):\n",
            "date                      id                        eo:cloud_cover            \n",
            "2019-05-22                LC82020322019142          9                         \n",
            "2019-03-19                LC82020322019078          13                        \n",
            "2019-03-03                LC82020322019062LGN00     17                        \n",
            "2019-02-15                LC82020322019046LGN00     1                         \n",
            "2019-01-14                LC82020322019014LGN00     0                         \n",
            "2018-12-29                LC82020332018363LGN00     4                         \n",
            "2018-09-24                LC82020322018267LGN00     0                         \n",
            "2018-08-23                LC82020322018235LGN00     1                         \n",
            "2018-08-07                LC82020322018219LGN00     0                         \n",
            "2018-07-22                LC82020322018203LGN00     3                         \n",
            "2018-07-06                LC82020322018187LGN00     12                        \n",
            "2018-06-20                LC82020322018171LGN00     6                         \n",
            "2018-04-17                LC82020322018107LGN00     0                         \n",
            "2018-02-12                LC82020322018043LGN00     17                        \n",
            "2017-11-08                LC82020322017312LGN00     15                        \n",
            "2017-10-23                LC82020322017296LGN01     0                         \n",
            "2017-10-07                LC82020322017280LGN00     0                         \n",
            "2017-09-05                LC82020322017248LGN00     0                         \n",
            "2017-08-20                LC82020322017232LGN00     0                         \n",
            "2017-08-04                LC82020322017216LGN00     0                         \n",
            "2017-08-04                LC82020322017216LGN01     0                         \n",
            "2017-07-19                LC82020322017200LGN00     6                         \n",
            "2017-07-03                LC82020322017184LGN00     0                         \n",
            "2017-06-17                LC82020322017168LGN00     1                         \n",
            "2017-06-01                LC82020322017152LGN00     18                        \n",
            "2017-05-16                LC82020322017136LGN00     13                        \n",
            "2017-04-14                LC82020322017104LGN00     17                        \n",
            "2017-03-29                LC82020322017088LGN00     1                         \n",
            "2017-02-25                LC82020322017056LGN00     1                         \n",
            "2017-01-24                LC82020322017024LGN01     0                         \n",
            "2017-01-08                LC82020322017008LGN01     4                         \n",
            "2016-12-23                LC82020322016358LGN01     18                        \n",
            "2016-10-04                LC82020322016278LGN01     0                         \n",
            "2016-09-18                LC82020322016262LGN02     0                         \n",
            "2016-09-02                LC82020322016246LGN01     1                         \n",
            "2016-08-01                LC82020322016214LGN01     1                         \n",
            "2016-07-16                LC82020322016198LGN01     0                         \n",
            "2016-06-30                LC82020322016182LGN02     0                         \n",
            "2015-12-05                LC82020322015339LGN01     0                         \n",
            "2015-10-02                LC82020322015275LGN01     4                         \n",
            "2015-08-15                LC82020322015227LGN01     13                        \n",
            "2015-07-30                LC82020322015211LGN01     3                         \n",
            "2015-07-14                LC82020322015195LGN01     0                         \n",
            "2015-06-28                LC82020322015179LGN01     0                         \n",
            "2015-05-27                LC82020322015147LGN01     0                         \n",
            "2015-05-11                LC82020322015131LGN01     4                         \n",
            "2015-03-08                LC82020322015067LGN01     1                         \n",
            "2015-01-19                LC82020322015019LGN01     10                        \n",
            "2015-01-03                LC82020322015003LGN01     0                         \n",
            "2014-10-31                LC82020322014304LGN01     1                         \n",
            "2014-09-13                LC82020322014256LGN01     19                        \n",
            "2014-08-28                LC82020322014240LGN01     0                         \n",
            "2014-08-12                LC82020322014224LGN02     0                         \n",
            "2014-07-27                LC82020322014208LGN01     0                         \n",
            "2014-07-11                LC82020322014192LGN01     0                         \n",
            "2014-06-25                LC82020322014176LGN01     19                        \n",
            "2014-06-09                LC82020322014160LGN01     10                        \n",
            "2014-04-06                LC82020322014096LGN01     14                        \n",
            "2014-03-05                LC82020322014064LGN02     6                         \n",
            "\n",
            "------- Descargando los resultados... --------\n",
            "['/content/descargas/ImagenesSatelite/2019-05-22/LC82020322019142_B5.TIF', '/content/descargas/ImagenesSatelite/2019-03-19/LC82020322019078_B5.TIF', '/content/descargas/ImagenesSatelite/2019-03-03/LC82020322019062LGN00_B5.TIF', '/content/descargas/ImagenesSatelite/2019-02-15/LC82020322019046LGN00_B5.TIF', '/content/descargas/ImagenesSatelite/2019-01-14/LC82020322019014LGN00_B5.TIF', '/content/descargas/ImagenesSatelite/2018-12-29/LC82020332018363LGN00_B5.TIF', '/content/descargas/ImagenesSatelite/2018-09-24/LC82020322018267LGN00_B5.TIF', '/content/descargas/ImagenesSatelite/2018-08-23/LC82020322018235LGN00_B5.TIF', '/content/descargas/ImagenesSatelite/2018-08-07/LC82020322018219LGN00_B5.TIF', '/content/descargas/ImagenesSatelite/2018-07-22/LC82020322018203LGN00_B5.TIF', '/content/descargas/ImagenesSatelite/2018-07-06/LC82020322018187LGN00_B5.TIF', '/content/descargas/ImagenesSatelite/2018-06-20/LC82020322018171LGN00_B5.TIF', '/content/descargas/ImagenesSatelite/2018-04-17/LC82020322018107LGN00_B5.TIF', '/content/descargas/ImagenesSatelite/2018-02-12/LC82020322018043LGN00_B5.TIF', '/content/descargas/ImagenesSatelite/2017-11-08/LC82020322017312LGN00_B5.TIF', '/content/descargas/ImagenesSatelite/2017-10-23/LC82020322017296LGN01_B5.TIF', '/content/descargas/ImagenesSatelite/2017-10-07/LC82020322017280LGN00_B5.TIF', '/content/descargas/ImagenesSatelite/2017-09-05/LC82020322017248LGN00_B5.TIF', '/content/descargas/ImagenesSatelite/2017-08-20/LC82020322017232LGN00_B5.TIF', '/content/descargas/ImagenesSatelite/2017-08-04/LC82020322017216LGN00_B5.TIF', '/content/descargas/ImagenesSatelite/2017-08-04/LC82020322017216LGN01_B5.TIF', '/content/descargas/ImagenesSatelite/2017-07-19/LC82020322017200LGN00_B5.TIF', '/content/descargas/ImagenesSatelite/2017-07-03/LC82020322017184LGN00_B5.TIF', '/content/descargas/ImagenesSatelite/2017-06-17/LC82020322017168LGN00_B5.TIF', '/content/descargas/ImagenesSatelite/2017-06-01/LC82020322017152LGN00_B5.TIF', '/content/descargas/ImagenesSatelite/2017-05-16/LC82020322017136LGN00_B5.TIF', '/content/descargas/ImagenesSatelite/2017-04-14/LC82020322017104LGN00_B5.TIF', '/content/descargas/ImagenesSatelite/2017-03-29/LC82020322017088LGN00_B5.TIF', '/content/descargas/ImagenesSatelite/2017-02-25/LC82020322017056LGN00_B5.TIF', '/content/descargas/ImagenesSatelite/2017-01-24/LC82020322017024LGN01_B5.TIF', '/content/descargas/ImagenesSatelite/2017-01-08/LC82020322017008LGN01_B5.TIF', '/content/descargas/ImagenesSatelite/2016-12-23/LC82020322016358LGN01_B5.TIF', '/content/descargas/ImagenesSatelite/2016-10-04/LC82020322016278LGN01_B5.TIF', '/content/descargas/ImagenesSatelite/2016-09-18/LC82020322016262LGN02_B5.TIF', '/content/descargas/ImagenesSatelite/2016-09-02/LC82020322016246LGN01_B5.TIF', '/content/descargas/ImagenesSatelite/2016-08-01/LC82020322016214LGN01_B5.TIF', '/content/descargas/ImagenesSatelite/2016-07-16/LC82020322016198LGN01_B5.TIF', '/content/descargas/ImagenesSatelite/2016-06-30/LC82020322016182LGN02_B5.TIF', '/content/descargas/ImagenesSatelite/2015-12-05/LC82020322015339LGN01_B5.TIF', '/content/descargas/ImagenesSatelite/2015-10-02/LC82020322015275LGN01_B5.TIF', '/content/descargas/ImagenesSatelite/2015-08-15/LC82020322015227LGN01_B5.TIF', '/content/descargas/ImagenesSatelite/2015-07-30/LC82020322015211LGN01_B5.TIF', '/content/descargas/ImagenesSatelite/2015-07-14/LC82020322015195LGN01_B5.TIF', '/content/descargas/ImagenesSatelite/2015-06-28/LC82020322015179LGN01_B5.TIF', '/content/descargas/ImagenesSatelite/2015-05-27/LC82020322015147LGN01_B5.TIF', '/content/descargas/ImagenesSatelite/2015-05-11/LC82020322015131LGN01_B5.TIF', '/content/descargas/ImagenesSatelite/2015-03-08/LC82020322015067LGN01_B5.TIF', '/content/descargas/ImagenesSatelite/2015-01-19/LC82020322015019LGN01_B5.TIF', '/content/descargas/ImagenesSatelite/2015-01-03/LC82020322015003LGN01_B5.TIF', '/content/descargas/ImagenesSatelite/2014-10-31/LC82020322014304LGN01_B5.TIF', '/content/descargas/ImagenesSatelite/2014-09-13/LC82020322014256LGN01_B5.TIF', '/content/descargas/ImagenesSatelite/2014-08-28/LC82020322014240LGN01_B5.TIF', '/content/descargas/ImagenesSatelite/2014-08-12/LC82020322014224LGN02_B5.TIF', '/content/descargas/ImagenesSatelite/2014-07-27/LC82020322014208LGN01_B5.TIF', '/content/descargas/ImagenesSatelite/2014-07-11/LC82020322014192LGN01_B5.TIF', '/content/descargas/ImagenesSatelite/2014-06-25/LC82020322014176LGN01_B5.TIF', '/content/descargas/ImagenesSatelite/2014-06-09/LC82020322014160LGN01_B5.TIF', '/content/descargas/ImagenesSatelite/2014-04-06/LC82020322014096LGN01_B5.TIF', '/content/descargas/ImagenesSatelite/2014-03-05/LC82020322014064LGN02_B5.TIF']\n",
            "['/content/descargas/ImagenesSatelite/2019-05-22/LC82020322019142_B4.TIF', '/content/descargas/ImagenesSatelite/2019-03-19/LC82020322019078_B4.TIF', '/content/descargas/ImagenesSatelite/2019-03-03/LC82020322019062LGN00_B4.TIF', '/content/descargas/ImagenesSatelite/2019-02-15/LC82020322019046LGN00_B4.TIF', '/content/descargas/ImagenesSatelite/2019-01-14/LC82020322019014LGN00_B4.TIF', '/content/descargas/ImagenesSatelite/2018-12-29/LC82020332018363LGN00_B4.TIF', '/content/descargas/ImagenesSatelite/2018-09-24/LC82020322018267LGN00_B4.TIF', '/content/descargas/ImagenesSatelite/2018-08-23/LC82020322018235LGN00_B4.TIF', '/content/descargas/ImagenesSatelite/2018-08-07/LC82020322018219LGN00_B4.TIF', '/content/descargas/ImagenesSatelite/2018-07-22/LC82020322018203LGN00_B4.TIF', '/content/descargas/ImagenesSatelite/2018-07-06/LC82020322018187LGN00_B4.TIF', '/content/descargas/ImagenesSatelite/2018-06-20/LC82020322018171LGN00_B4.TIF', '/content/descargas/ImagenesSatelite/2018-04-17/LC82020322018107LGN00_B4.TIF', '/content/descargas/ImagenesSatelite/2018-02-12/LC82020322018043LGN00_B4.TIF', '/content/descargas/ImagenesSatelite/2017-11-08/LC82020322017312LGN00_B4.TIF', '/content/descargas/ImagenesSatelite/2017-10-23/LC82020322017296LGN01_B4.TIF', '/content/descargas/ImagenesSatelite/2017-10-07/LC82020322017280LGN00_B4.TIF', '/content/descargas/ImagenesSatelite/2017-09-05/LC82020322017248LGN00_B4.TIF', '/content/descargas/ImagenesSatelite/2017-08-20/LC82020322017232LGN00_B4.TIF', '/content/descargas/ImagenesSatelite/2017-08-04/LC82020322017216LGN00_B4.TIF', '/content/descargas/ImagenesSatelite/2017-08-04/LC82020322017216LGN01_B4.TIF', '/content/descargas/ImagenesSatelite/2017-07-19/LC82020322017200LGN00_B4.TIF', '/content/descargas/ImagenesSatelite/2017-07-03/LC82020322017184LGN00_B4.TIF', '/content/descargas/ImagenesSatelite/2017-06-17/LC82020322017168LGN00_B4.TIF', '/content/descargas/ImagenesSatelite/2017-06-01/LC82020322017152LGN00_B4.TIF', '/content/descargas/ImagenesSatelite/2017-05-16/LC82020322017136LGN00_B4.TIF', '/content/descargas/ImagenesSatelite/2017-04-14/LC82020322017104LGN00_B4.TIF', '/content/descargas/ImagenesSatelite/2017-03-29/LC82020322017088LGN00_B4.TIF', '/content/descargas/ImagenesSatelite/2017-02-25/LC82020322017056LGN00_B4.TIF', '/content/descargas/ImagenesSatelite/2017-01-24/LC82020322017024LGN01_B4.TIF', '/content/descargas/ImagenesSatelite/2017-01-08/LC82020322017008LGN01_B4.TIF', '/content/descargas/ImagenesSatelite/2016-12-23/LC82020322016358LGN01_B4.TIF', '/content/descargas/ImagenesSatelite/2016-10-04/LC82020322016278LGN01_B4.TIF', '/content/descargas/ImagenesSatelite/2016-09-18/LC82020322016262LGN02_B4.TIF', '/content/descargas/ImagenesSatelite/2016-09-02/LC82020322016246LGN01_B4.TIF', '/content/descargas/ImagenesSatelite/2016-08-01/LC82020322016214LGN01_B4.TIF', '/content/descargas/ImagenesSatelite/2016-07-16/LC82020322016198LGN01_B4.TIF', '/content/descargas/ImagenesSatelite/2016-06-30/LC82020322016182LGN02_B4.TIF', '/content/descargas/ImagenesSatelite/2015-12-05/LC82020322015339LGN01_B4.TIF', '/content/descargas/ImagenesSatelite/2015-10-02/LC82020322015275LGN01_B4.TIF', '/content/descargas/ImagenesSatelite/2015-08-15/LC82020322015227LGN01_B4.TIF', '/content/descargas/ImagenesSatelite/2015-07-30/LC82020322015211LGN01_B4.TIF', '/content/descargas/ImagenesSatelite/2015-07-14/LC82020322015195LGN01_B4.TIF', '/content/descargas/ImagenesSatelite/2015-06-28/LC82020322015179LGN01_B4.TIF', '/content/descargas/ImagenesSatelite/2015-05-27/LC82020322015147LGN01_B4.TIF', '/content/descargas/ImagenesSatelite/2015-05-11/LC82020322015131LGN01_B4.TIF', '/content/descargas/ImagenesSatelite/2015-03-08/LC82020322015067LGN01_B4.TIF', '/content/descargas/ImagenesSatelite/2015-01-19/LC82020322015019LGN01_B4.TIF', '/content/descargas/ImagenesSatelite/2015-01-03/LC82020322015003LGN01_B4.TIF', '/content/descargas/ImagenesSatelite/2014-10-31/LC82020322014304LGN01_B4.TIF', '/content/descargas/ImagenesSatelite/2014-09-13/LC82020322014256LGN01_B4.TIF', '/content/descargas/ImagenesSatelite/2014-08-28/LC82020322014240LGN01_B4.TIF', '/content/descargas/ImagenesSatelite/2014-08-12/LC82020322014224LGN02_B4.TIF', '/content/descargas/ImagenesSatelite/2014-07-27/LC82020322014208LGN01_B4.TIF', '/content/descargas/ImagenesSatelite/2014-07-11/LC82020322014192LGN01_B4.TIF', '/content/descargas/ImagenesSatelite/2014-06-25/LC82020322014176LGN01_B4.TIF', '/content/descargas/ImagenesSatelite/2014-06-09/LC82020322014160LGN01_B4.TIF', '/content/descargas/ImagenesSatelite/2014-04-06/LC82020322014096LGN01_B4.TIF', '/content/descargas/ImagenesSatelite/2014-03-05/LC82020322014064LGN02_B4.TIF']\n",
            "------- Guardando el fichero con las fechas de los resultados... --------\n",
            "------- Fin del proceso de busqueda y descarga de resultados. --------\n"
          ],
          "name": "stdout"
        }
      ]
    }
  ]
}